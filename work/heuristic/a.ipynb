{
 "cells": [
  {
   "cell_type": "code",
   "execution_count": 2,
   "id": "683d7e4c",
   "metadata": {},
   "outputs": [
    {
     "data": {
      "text/plain": [
       "(array([ 4.,  2.,  4., 17., 31.,  7.,  4.,  6.,  2.,  2.]),\n",
       " array([1892. , 2036.5, 2181. , 2325.5, 2470. , 2614.5, 2759. , 2903.5,\n",
       "        3048. , 3192.5, 3337. ]),\n",
       " <BarContainer object of 10 artists>)"
      ]
     },
     "execution_count": 2,
     "metadata": {},
     "output_type": "execute_result"
    },
    {
     "data": {
      "image/png": "[encoded data removed]",
      "text/plain": [
       "<Figure size 432x288 with 1 Axes>"
      ]
     },
     "metadata": {
      "needs_background": "light"
     },
     "output_type": "display_data"
    }
   ],
   "source": [
    "import numpy as np\n",
    "import matplotlib.pyplot as plt\n",
    "\n",
    "## 20秒　randpom\n",
    "a = [1892, 1959, 2004, 2011, 2068, 2081, 2182, 2279, 2292, 2295, 2328, 2336, 2355, 2355, 2357, 2359, 2366, 2371, 2372, 2388, 2413, 2436, 2446, 2448, 2450, 2456, 2467, 2474, 2477, 2478, 2493, 2502, 2507, 2517, 2519, 2521, 2548, 2560, 2565, 2567, 2569, 2569, 2569, 2573, 2574, 2574, 2575, 2575, 2578, 2580, 2581, 2587, 2598, 2600, 2602, 2605, 2609, 2610, 2643, 2665, 2668, 2670, 2686, 2732, 2732, 2812, 2846, 2866, 2870, 2938, 2940, 2942, 2962, 2965, 3038, 3088, 3173, 3315, 3337]\n",
    "\n",
    "plt.hist(a)"
   ]
  },
  {
   "cell_type": "code",
   "execution_count": 1,
   "id": "1de34457",
   "metadata": {},
   "outputs": [
    {
     "data": {
      "text/plain": [
       "(array([  5.,  31.,  58., 142., 226.,  67.,  95.,  42.,  20.,   4.]),\n",
       " array([1712. , 1896.5, 2081. , 2265.5, 2450. , 2634.5, 2819. , 3003.5,\n",
       "        3188. , 3372.5, 3557. ]),\n",
       " <BarContainer object of 10 artists>)"
      ]
     },
     "execution_count": 1,
     "metadata": {},
     "output_type": "execute_result"
    },
    {
     "data": {
      "image/png": "[encoded data removed]",
      "text/plain": [
       "<Figure size 432x288 with 1 Axes>"
      ]
     },
     "metadata": {
      "needs_background": "light"
     },
     "output_type": "display_data"
    }
   ],
   "source": [
    "import numpy as np\n",
    "import matplotlib.pyplot as plt\n",
    "\n",
    "## 20秒　randpom\n",
    "a = [1712, 1759, 1812, 1835, 1836, 1915, 1922, 1923, 1928, 1930, 1937, 1950, 1953, 1956, 1964, 1965, 1970, 1972, 1976, 1984, 1986, 1986, 1986, 1987, 1988, 1999, 2000, 2021, 2024, 2025, 2029, 2029, 2032, 2070, 2078, 2079, 2082, 2083, 2090, 2103, 2106, 2114, 2115, 2116, 2120, 2130, 2130, 2140, 2141, 2148, 2158, 2159, 2159, 2165, 2168, 2182, 2182, 2184, 2194, 2194, 2200, 2205, 2206, 2207, 2207, 2216, 2218, 2221, 2222, 2223, 2224, 2228, 2229, 2229, 2233, 2234, 2235, 2237, 2242, 2245, 2248, 2249, 2251, 2252, 2253, 2253, 2254, 2255, 2256, 2261, 2263, 2264, 2264, 2264, 2268, 2270, 2277, 2278, 2278, 2282, 2283, 2283, 2285, 2286, 2287, 2290, 2292, 2294, 2294, 2294, 2294, 2295, 2295, 2295, 2297, 2298, 2298, 2298, 2300, 2303, 2305, 2305, 2308, 2308, 2309, 2310, 2311, 2311, 2315, 2317, 2317, 2318, 2319, 2320, 2320, 2321, 2321, 2322, 2323, 2325, 2326, 2331, 2332, 2334, 2334, 2335, 2335, 2336, 2337, 2341, 2342, 2342, 2342, 2344, 2345, 2345, 2348, 2348, 2349, 2352, 2355, 2355, 2356, 2356, 2359, 2364, 2366, 2367, 2368, 2368, 2370, 2372, 2372, 2372, 2374, 2374, 2377, 2377, 2379, 2382, 2387, 2388, 2388, 2389, 2389, 2389, 2391, 2394, 2395, 2398, 2399, 2399, 2400, 2402, 2403, 2405, 2405, 2405, 2406, 2406, 2406, 2407, 2407, 2408, 2408, 2408, 2408, 2411, 2411, 2411, 2412, 2412, 2413, 2413, 2413, 2414, 2417, 2419, 2421, 2423, 2425, 2425, 2425, 2426, 2432, 2436, 2437, 2438, 2441, 2442, 2443, 2446, 2446, 2447, 2447, 2447, 2450, 2450, 2450, 2452, 2457, 2458, 2458, 2459, 2460, 2462, 2464, 2466, 2466, 2467, 2468, 2468, 2470, 2470, 2471, 2471, 2471, 2471, 2474, 2475, 2478, 2479, 2481, 2482, 2483, 2484, 2486, 2487, 2489, 2491, 2492, 2494, 2496, 2497, 2498, 2501, 2501, 2502, 2502, 2502, 2502, 2504, 2505, 2506, 2507, 2507, 2507, 2508, 2510, 2510, 2511, 2513, 2514, 2514, 2516, 2516, 2519, 2521, 2522, 2523, 2526, 2527, 2527, 2529, 2531, 2531, 2532, 2533, 2534, 2534, 2534, 2535, 2536, 2537, 2537, 2537, 2538, 2540, 2542, 2542, 2543, 2544, 2545, 2546, 2548, 2548, 2554, 2558, 2559, 2560, 2561, 2562, 2562, 2563, 2563, 2563, 2564, 2565, 2565, 2565, 2565, 2566, 2566, 2567, 2567, 2568, 2568, 2568, 2569, 2569, 2569, 2569, 2569, 2570, 2570, 2570, 2571, 2571, 2571, 2571, 2572, 2572, 2573, 2573, 2573, 2573, 2573, 2573, 2573, 2573, 2573, 2573, 2574, 2575, 2575, 2575, 2575, 2575, 2575, 2575, 2575, 2575, 2575, 2575, 2575, 2575, 2575, 2576, 2576, 2577, 2577, 2577, 2577, 2577, 2577, 2577, 2578, 2579, 2579, 2580, 2583, 2583, 2584, 2587, 2588, 2589, 2592, 2595, 2595, 2599, 2600, 2600, 2606, 2607, 2608, 2609, 2609, 2610, 2610, 2610, 2611, 2611, 2611, 2612, 2612, 2613, 2613, 2613, 2613, 2614, 2614, 2615, 2615, 2616, 2617, 2617, 2618, 2618, 2618, 2619, 2619, 2619, 2621, 2621, 2621, 2622, 2623, 2623, 2623, 2624, 2625, 2625, 2625, 2628, 2628, 2629, 2629, 2631, 2631, 2631, 2633, 2633, 2637, 2638, 2641, 2641, 2641, 2642, 2643, 2644, 2646, 2653, 2653, 2653, 2654, 2657, 2663, 2668, 2669, 2670, 2671, 2671, 2672, 2673, 2674, 2676, 2678, 2680, 2680, 2682, 2683, 2683, 2684, 2684, 2686, 2689, 2693, 2695, 2703, 2707, 2721, 2722, 2737, 2740, 2748, 2749, 2750, 2757, 2759, 2776, 2778, 2780, 2780, 2784, 2788, 2788, 2789, 2791, 2793, 2794, 2796, 2796, 2796, 2797, 2799, 2801, 2807, 2812, 2814, 2819, 2821, 2822, 2823, 2825, 2826, 2832, 2835, 2835, 2836, 2836, 2839, 2840, 2842, 2849, 2849, 2850, 2857, 2861, 2876, 2880, 2880, 2885, 2886, 2886, 2893, 2895, 2896, 2897, 2897, 2900, 2908, 2910, 2910, 2911, 2912, 2916, 2917, 2918, 2920, 2920, 2921, 2921, 2921, 2925, 2926, 2929, 2931, 2932, 2942, 2944, 2944, 2944, 2944, 2948, 2948, 2951, 2952, 2956, 2958, 2958, 2959, 2959, 2961, 2962, 2963, 2963, 2963, 2964, 2965, 2965, 2967, 2968, 2971, 2971, 2975, 2975, 2984, 2985, 2985, 2987, 2988, 2989, 2992, 2995, 2995, 2996, 2997, 2998, 3001, 3001, 3002, 3002, 3003, 3003, 3004, 3004, 3005, 3006, 3006, 3008, 3010, 3011, 3017, 3022, 3023, 3024, 3025, 3030, 3031, 3034, 3034, 3038, 3044, 3047, 3049, 3052, 3056, 3056, 3058, 3060, 3062, 3064, 3066, 3070, 3072, 3074, 3079, 3088, 3100, 3106, 3113, 3142, 3147, 3164, 3166, 3184, 3197, 3214, 3217, 3236, 3244, 3252, 3272, 3279, 3289, 3293, 3294, 3310, 3328, 3335, 3335, 3339, 3352, 3353, 3353, 3365, 3382, 3391, 3482, 3557]\n",
    "\n",
    "plt.hist(a)"
   ]
  },
  {
   "cell_type": "code",
   "execution_count": 3,
   "id": "6109c5a9",
   "metadata": {},
   "outputs": [
    {
     "data": {
      "text/plain": [
       "(array([ 3.,  0.,  6., 11., 10., 12., 11., 13.,  3.,  3.]),\n",
       " array([1636. , 1817.8, 1999.6, 2181.4, 2363.2, 2545. , 2726.8, 2908.6,\n",
       "        3090.4, 3272.2, 3454. ]),\n",
       " <BarContainer object of 10 artists>)"
      ]
     },
     "execution_count": 3,
     "metadata": {},
     "output_type": "execute_result"
    },
    {
     "data": {
      "image/png": "[encoded data removed]",
      "text/plain": [
       "<Figure size 432x288 with 1 Axes>"
      ]
     },
     "metadata": {
      "needs_background": "light"
     },
     "output_type": "display_data"
    }
   ],
   "source": [
    "import numpy as np\n",
    "import matplotlib.pyplot as plt\n",
    "\n",
    "## 20秒　randpom\n",
    "a = [1636, 1679, 1733, 2001, 2021, 2063, 2066, 2080, 2089, 2214, 2216, 2297, 2304, 2326, 2338, 2339, 2354, 2356, 2361, 2361, 2379, 2401, 2409, 2452, 2456, 2474, 2503, 2515, 2517, 2531, 2551, 2554, 2564, 2601, 2602, 2605, 2606, 2611, 2635, 2676, 2683, 2704, 2728, 2729, 2730, 2734, 2743, 2757, 2788, 2825, 2852, 2856, 2895, 2918, 2921, 2931, 2935, 2961, 2965, 2971, 2988, 2995, 3001, 3026, 3049, 3053, 3110, 3148, 3246, 3326, 3335, 3454]\n",
    "\n",
    "plt.hist(a)"
   ]
  },
  {
   "cell_type": "code",
   "execution_count": 99,
   "id": "b8977d3e",
   "metadata": {},
   "outputs": [
    {
     "data": {
      "text/plain": [
       "72811"
      ]
     },
     "execution_count": 99,
     "metadata": {},
     "output_type": "execute_result"
    }
   ],
   "source": [
    "## Calc Base Line Score\n",
    "import glob\n",
    "lis = glob.glob(\"./out/base_line/*\")\n",
    "s = 0\n",
    "cnt = 0\n",
    "for now_path in lis[:]:\n",
    "#     print(now_path)\n",
    "    with open(now_path, 'r') as f:\n",
    "        s += int(f.readlines()[0])\n",
    "        cnt += 1\n",
    "s"
   ]
  },
  {
   "cell_type": "code",
   "execution_count": 170,
   "id": "b134e816",
   "metadata": {},
   "outputs": [
    {
     "data": {
      "text/plain": [
       "74148"
      ]
     },
     "execution_count": 170,
     "metadata": {},
     "output_type": "execute_result"
    }
   ],
   "source": [
    "## Calc Base Line Score\n",
    "import glob\n",
    "lis = glob.glob(\"./out/now/*\")\n",
    "s = 0\n",
    "cnt = 0\n",
    "for now_path in lis[:]:\n",
    "    with open(now_path, 'r') as f:\n",
    "        try:\n",
    "            s += int(f.readlines()[0])\n",
    "            cnt += 1\n",
    "        except:\n",
    "            pass\n",
    "s"
   ]
  },
  {
   "cell_type": "code",
   "execution_count": null,
   "id": "e39cabdd",
   "metadata": {},
   "outputs": [],
   "source": []
  }
 ],
 "metadata": {
  "kernelspec": {
   "display_name": "Python 3 (ipykernel)",
   "language": "python",
   "name": "python3"
  },
  "language_info": {
   "codemirror_mode": {
    "name": "ipython",
    "version": 3
   },
   "file_extension": ".py",
   "mimetype": "text/x-python",
   "name": "python",
   "nbconvert_exporter": "python",
   "pygments_lexer": "ipython3",
   "version": "3.8.10"
  }
 },
 "nbformat": 4,
 "nbformat_minor": 5
}
